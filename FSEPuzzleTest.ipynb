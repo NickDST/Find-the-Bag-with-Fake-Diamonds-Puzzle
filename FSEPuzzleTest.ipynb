{
  "nbformat": 4,
  "nbformat_minor": 0,
  "metadata": {
    "colab": {
      "name": "FSEPuzzleTest.ipynb",
      "version": "0.3.2",
      "provenance": [],
      "collapsed_sections": []
    },
    "kernelspec": {
      "name": "python3",
      "display_name": "Python 3"
    }
  },
  "cells": [
    {
      "cell_type": "markdown",
      "metadata": {
        "id": "Dvymgyq7kwDU",
        "colab_type": "text"
      },
      "source": [
        "This is a short programming exercise with the fake diamonds puzzle.\n",
        "\n",
        "Some of the rules include:\n",
        "1. There are 10 bags of diamonds\n",
        "2. 1 of the 10 bags possess fake diamonds\n",
        "3. Fake diamonds weigh 2 grams and the real diamonds weight 1\n",
        "4. Each bag has at least 10 diamonds\n",
        "5. Using a weigh/scale ONLY ONCE, find a way to figure out which bag possesses the fake diamonds"
      ]
    },
    {
      "cell_type": "code",
      "metadata": {
        "colab_type": "code",
        "outputId": "25efc076-ebad-4957-81b2-72b584bfa696",
        "id": "_PTg8FrslQcM",
        "colab": {
          "base_uri": "https://localhost:8080/",
          "height": 34
        }
      },
      "source": [
        "#number of bags. Put 2 in the location with the fake bag.\n",
        "num_bag_value = [1, 1, 1, 1, 1, 1, 1, 1, 2, 1]\n",
        "\n",
        "number_of_bags = len(num_bag_value)\n",
        "print(\"total Number of bags: \" + str(number_of_bags))"
      ],
      "execution_count": 0,
      "outputs": [
        {
          "output_type": "stream",
          "text": [
            "total Number of bags: 10\n"
          ],
          "name": "stdout"
        }
      ]
    },
    {
      "cell_type": "code",
      "metadata": {
        "id": "6vJ8KhEGmiRa",
        "colab_type": "code",
        "colab": {
          "base_uri": "https://localhost:8080/",
          "height": 68
        },
        "outputId": "8a660850-6859-449d-e595-cf527fcacd68"
      },
      "source": [
        "# Normal Method\n",
        "\n",
        "i = 1\n",
        "total = 0\n",
        "for x in range(len(num_bag_value)):\n",
        "    total = total + (i * num_bag_value[x])\n",
        "    i += 1\n",
        "print(\"Total Weights: \" + str(total))\n",
        "\n",
        "\n",
        "j = 1\n",
        "for x in range(len(num_bag_value)+1):\n",
        "    if(x==0):\n",
        "        pass\n",
        "    else:\n",
        "        j += x\n",
        "print(\"Summation: \" + str(j))\n",
        "\n",
        "\n",
        "#finding the particular bag that has fake diamonds\n",
        "bag_with_fake_diamonds = total - j\n",
        "print(\"Bag with fake diamonds:\"bag_with_fake_diamonds)\n"
      ],
      "execution_count": 70,
      "outputs": [
        {
          "output_type": "stream",
          "text": [
            "Total Weights: 64\n",
            "Summation: 56\n",
            "Bag with fake diamonds:  8\n"
          ],
          "name": "stdout"
        }
      ]
    },
    {
      "cell_type": "markdown",
      "metadata": {
        "id": "XYoDI2fxlgqL",
        "colab_type": "text"
      },
      "source": [
        "#Now with 2 fake bags \n",
        "The rules are generally the same here. Except each bag has at least a lot more diamonds. The key is as long as you can generate a list where the the sum of 2 numbers (or n, for anything more) results in a unique value where you can find the two numbers that add up into that sum, then you can find which bag(s) have fake diamonds.\n"
      ]
    },
    {
      "cell_type": "code",
      "metadata": {
        "id": "Mh0IRvTioahv",
        "colab_type": "code",
        "colab": {
          "base_uri": "https://localhost:8080/",
          "height": 394
        },
        "outputId": "53ee4835-1f59-4b82-bc1e-640859c0233f"
      },
      "source": [
        "#Creating a sequence with a unique number for each sum of 2\n",
        "\n",
        "def valueInList(input_list, value):\n",
        "    for i in input_list: \n",
        "        if(i == value) : \n",
        "            return True\n",
        "\n",
        "    return False\n",
        "\n",
        "# Checking if two lists share any values\n",
        "def sequenceValueInList(input_list, input_list2):\n",
        "    for i in range(len(input_list)):\n",
        "        for j in range(len(input_list2)):\n",
        "            # print(\"input_list1: \", input_list[i], \"input_list2: \", input_list2[j])\n",
        "            if(input_list[i] == input_list2[j]):\n",
        "                return True\n",
        "    return False\n",
        "\n",
        "\n",
        "# Calculates all the (unique, for efficiency) possible sums of 2\n",
        "def calculate_sequence_sums(sequence):\n",
        "    seq_of_sums = []\n",
        "    value_sum_dict = {}\n",
        "\n",
        "    for i in range(len(sequence)): \n",
        "        for j in range (len(sequence)):\n",
        "            value = sequence[i] + sequence[j]\n",
        "            if(not sequence[i] == sequence[j]):\n",
        "                # print(\"Value 1: \", sequence[i], \" || Value 2: \", sequence[j], \"|| value: \", value)\n",
        "                # print(seq_of_sums)\n",
        "                # print(valueInList(seq_of_sums, value))\n",
        "                if(not valueInList(seq_of_sums, value)):\n",
        "                    seq_of_sums.append(value)\n",
        "                    value_sum_dict[value] = sequence[i], sequence[j]\n",
        "\n",
        "                # if((valueInList(seq_of_sums, value))):\n",
        "                #     seq_of_sums.append(value)\n",
        "\n",
        "    return seq_of_sums, value_sum_dict\n",
        "\n",
        "\n",
        "# Adding each number from the existing sequence to the current number \n",
        "def possible_sums(x, sequence):\n",
        "    possible_sequence = []\n",
        "    if(len(sequence) > 1):\n",
        "        for value in sequence:\n",
        "            possible_sequence.append(x * value)\n",
        "\n",
        "    return possible_sequence    \n",
        "\n",
        "\n",
        "# Main Generate Sequence\n",
        "def generate_sequence_unique_sums_2(sequence_length):\n",
        "    sequence = []\n",
        "    sequence_sum_list = []\n",
        "\n",
        "    num_values_in_sequence = 0\n",
        "    x = 1\n",
        "    # for x in range(sequence_length):\n",
        "    while(num_values_in_sequence < sequence_length):\n",
        "        pastTest1 = True\n",
        "        pastTest2 = True\n",
        "        # Checking if the number already exists in the list\n",
        "\n",
        "        if(valueInList(sequence, x)):\n",
        "            # print(x, \" failed the first test\")\n",
        "            pastTest1 = False\n",
        "        # Checking if the number added by each of the others in sequence exists in the SUM list\n",
        "        sequence_of_sums, sum_dict_key = calculate_sequence_sums(sequence)\n",
        "        if(sequenceValueInList(possible_sums(x, sequence), sequence_of_sums)):\n",
        "            # print(x, \" failed the second test\")\n",
        "            # print(\"Value: \",x, \"Possible Sums Sequence: \", possible_sums(x, sequence), \"|| Calculated Sums Sequence: \", calculate_sequence_sums(sequence))\n",
        "            # print(\"Sequence: \", sequence)\n",
        "            pastTest2 = False\n",
        "        \n",
        "        if(pastTest1==True and pastTest2 == True):\n",
        "            sequence.append(x)\n",
        "            num_values_in_sequence += 1\n",
        "        \n",
        "        x += 1\n",
        "    # print(calculate_sequence_sums(sequence))\n",
        "    return sequence, sum_dict_key\n",
        "\n",
        "\n",
        "generate_sequence_unique_sums_2(10)\n"
      ],
      "execution_count": 73,
      "outputs": [
        {
          "output_type": "execute_result",
          "data": {
            "text/plain": [
              "([1, 2, 4, 7, 10, 13, 16, 19, 22, 25],\n",
              " {3: (1, 2),\n",
              "  5: (1, 4),\n",
              "  6: (2, 4),\n",
              "  8: (1, 7),\n",
              "  9: (2, 7),\n",
              "  11: (1, 10),\n",
              "  12: (2, 10),\n",
              "  14: (1, 13),\n",
              "  15: (2, 13),\n",
              "  17: (1, 16),\n",
              "  18: (2, 16),\n",
              "  20: (1, 19),\n",
              "  21: (2, 19),\n",
              "  23: (1, 22),\n",
              "  24: (2, 22),\n",
              "  26: (4, 22),\n",
              "  29: (7, 22),\n",
              "  32: (10, 22),\n",
              "  35: (13, 22),\n",
              "  38: (16, 22),\n",
              "  41: (19, 22)})"
            ]
          },
          "metadata": {
            "tags": []
          },
          "execution_count": 73
        }
      ]
    },
    {
      "cell_type": "code",
      "metadata": {
        "id": "7qfT1HEdGGmV",
        "colab_type": "code",
        "colab": {
          "base_uri": "https://localhost:8080/",
          "height": 120
        },
        "outputId": "e2dcb698-cd8e-42a9-c243-8b3a60fcc119"
      },
      "source": [
        "# Creating the bag problem again but only with summation of 2\n",
        "\n",
        "# This part can be changed*****\n",
        "num_bag_value = [1, 2, 1, 1, 1, 1, 1, 1, 2, 1]\n",
        "\n",
        "\n",
        "multiply_value, dict_key = generate_sequence_unique_sums_2(len(num_bag_value))\n",
        "\n",
        "print(num_bag_value)\n",
        "print(\"Generated Sequence of Unique Sums: \", multiply_value)\n",
        "\n",
        "i = 0\n",
        "total = 0\n",
        "for x in range(len(num_bag_value)):\n",
        "    total = total + (multiply_value[i] * num_bag_value[x])\n",
        "    i += 1\n",
        "print(\"Total Weights: \" + str(total))\n",
        "\n",
        "j = 1\n",
        "summation = 0\n",
        "for x in range(len(multiply_value)):\n",
        "    summation += multiply_value[x]\n",
        "print(\"Summation: \" + str(summation))\n",
        "\n",
        "\n",
        "#finding the particular bag that has fake diamonds\n",
        "diff = total - summation\n",
        "print(\"Delta: \", diff)\n",
        "\n",
        "# Finding which bags are fake based on the summation\n",
        "value1, value2 = (dict_key[diff])\n",
        "print(\"First Fake bag:\", multiply_value.index(value1) + 1, \"|| Second Fake Bag: \", multiply_value.index(value2) + 1)\n"
      ],
      "execution_count": 74,
      "outputs": [
        {
          "output_type": "stream",
          "text": [
            "[1, 2, 1, 1, 1, 1, 1, 1, 2, 1]\n",
            "Generated Sequence of Unique Sums:  [1, 2, 4, 7, 10, 13, 16, 19, 22, 25]\n",
            "Total Weights: 143\n",
            "Summation: 119\n",
            "Delta:  24\n",
            "First Fake bag: 2 || Second Fake Bag:  9\n"
          ],
          "name": "stdout"
        }
      ]
    }
  ]
}